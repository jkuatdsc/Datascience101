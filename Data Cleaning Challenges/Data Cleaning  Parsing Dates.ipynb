{
 "cells": [
  {
   "cell_type": "code",
   "execution_count": 6,
   "metadata": {},
   "outputs": [],
   "source": [
    "# Import the required libraries: Pandas, Numpy, Matplotlib and   Seaborn\n",
    "\n",
    "import pandas as pd          \n",
    "import numpy as np \n",
    "import datetime\n",
    "import seaborn as sns # For mathematical calculations\n",
    "import matplotlib.pyplot as plt  # For plotting graphs\n",
    "from datetime import datetime    # To access datetime\n",
    "from pandas import Series # To work on series\n",
    "%matplotlib inline\n",
    "import warnings                   # To ignore the warnings\n",
    "warnings.filterwarnings(\"ignore\")\n"
   ]
  },
  {
   "cell_type": "code",
   "execution_count": 7,
   "metadata": {},
   "outputs": [
    {
     "name": "stdout",
     "output_type": "stream",
     "text": [
      "<class 'pandas.core.frame.DataFrame'>\n",
      "RangeIndex: 1693 entries, 0 to 1692\n",
      "Data columns (total 23 columns):\n",
      "id                      1693 non-null int64\n",
      "date                    1690 non-null object\n",
      "time                    629 non-null object\n",
      "continent_code          164 non-null object\n",
      "country_name            1693 non-null object\n",
      "country_code            1693 non-null object\n",
      "state/province          1692 non-null object\n",
      "population              1693 non-null int64\n",
      "city/town               1689 non-null object\n",
      "distance                1692 non-null float64\n",
      "location_description    551 non-null object\n",
      "latitude                1692 non-null float64\n",
      "longitude               1692 non-null float64\n",
      "geolocation             1692 non-null object\n",
      "hazard_type             1693 non-null object\n",
      "landslide_type          1692 non-null object\n",
      "landslide_size          1692 non-null object\n",
      "trigger                 1691 non-null object\n",
      "storm_name              132 non-null object\n",
      "injuries                515 non-null float64\n",
      "fatalities              1446 non-null float64\n",
      "source_name             872 non-null object\n",
      "source_link             1593 non-null object\n",
      "dtypes: float64(5), int64(2), object(16)\n",
      "memory usage: 304.3+ KB\n"
     ]
    }
   ],
   "source": [
    "\n",
    "# Load and read the data from the Dataset\n",
    "\n",
    "df=pd.read_csv(\"catalog.csv\",encoding = \"ISO-8859-1\")\n",
    "df.info()"
   ]
  },
  {
   "cell_type": "code",
   "execution_count": 9,
   "metadata": {},
   "outputs": [
    {
     "data": {
      "text/plain": [
       "0     3/2/07\n",
       "1    3/22/07\n",
       "2     4/6/07\n",
       "3    4/14/07\n",
       "4    4/15/07\n",
       "Name: date, dtype: object"
      ]
     },
     "execution_count": 9,
     "metadata": {},
     "output_type": "execute_result"
    }
   ],
   "source": [
    "# Check the data type of our date column\n",
    "\n",
    "# Print the first few rows of the date column\n",
    "\n",
    "a=(df['date'].head())\n",
    "a"
   ]
  },
  {
   "cell_type": "code",
   "execution_count": 11,
   "metadata": {},
   "outputs": [
    {
     "data": {
      "text/plain": [
       "dtype('O')"
      ]
     },
     "execution_count": 11,
     "metadata": {},
     "output_type": "execute_result"
    }
   ],
   "source": [
    "# check the data type of our date column\n",
    "\n",
    "c=df['date'].dtype\n",
    "c\n"
   ]
  },
  {
   "cell_type": "code",
   "execution_count": 37,
   "metadata": {},
   "outputs": [
    {
     "name": "stdout",
     "output_type": "stream",
     "text": [
      "0      2007-03-02\n",
      "1      2007-03-22\n",
      "2      2007-04-06\n",
      "3      2007-04-14\n",
      "4      2007-04-15\n",
      "5      2007-04-20\n",
      "6      2007-04-24\n",
      "7      2007-05-21\n",
      "8      2007-06-27\n",
      "9      2007-06-27\n",
      "10     2007-06-27\n",
      "11     2007-07-01\n",
      "12     2007-07-04\n",
      "13     2007-07-08\n",
      "14     2007-07-13\n",
      "15     2007-07-24\n",
      "16     2007-08-09\n",
      "17     2007-08-11\n",
      "18     2007-08-14\n",
      "19     2007-08-17\n",
      "20     2007-08-18\n",
      "21     2007-08-18\n",
      "22     2007-08-18\n",
      "23     2007-08-19\n",
      "24     2007-08-19\n",
      "25     2007-08-20\n",
      "26     2007-08-21\n",
      "27     2007-08-21\n",
      "28     2007-08-23\n",
      "29     2007-09-01\n",
      "          ...    \n",
      "1663   2015-09-17\n",
      "1664   2015-09-10\n",
      "1665   2015-08-31\n",
      "1666   2015-08-31\n",
      "1667   2015-09-22\n",
      "1668   2015-05-09\n",
      "1669   2015-05-23\n",
      "1670   2015-10-21\n",
      "1671   2015-10-21\n",
      "1672   2015-09-12\n",
      "1673   2015-10-15\n",
      "1674   2016-02-24\n",
      "1675   2016-02-24\n",
      "1676   2016-02-15\n",
      "1677   2016-02-24\n",
      "1678   2016-02-21\n",
      "1679   2016-02-24\n",
      "1680   2016-01-28\n",
      "1681   2016-02-24\n",
      "1682   2016-02-27\n",
      "1683   2016-02-27\n",
      "1684   2016-02-14\n",
      "1685   2016-02-26\n",
      "1686   2016-02-27\n",
      "1687   2015-11-29\n",
      "1688   2015-12-07\n",
      "1689   2016-02-22\n",
      "1690   2016-02-23\n",
      "1691   2016-02-26\n",
      "1692   2016-03-02\n",
      "Name: date, Length: 1693, dtype: datetime64[ns]\n",
      "1482   NaT\n",
      "1497   NaT\n",
      "1526   NaT\n",
      "Name: date, dtype: datetime64[ns]\n"
     ]
    }
   ],
   "source": [
    "# Finding  the data column rows that are throwing errors\n",
    "\n",
    "print(pd.to_datetime(df['date'], errors='coerce', format=\"%m/%d/%Y\"))\n",
    "mask = pd.to_datetime(df['date'], errors='coerce', format=\"%m/%d/%Y\").isnull()\n",
    "print (df['date'][mask])\n"
   ]
  },
  {
   "cell_type": "code",
   "execution_count": 34,
   "metadata": {},
   "outputs": [
    {
     "data": {
      "text/plain": [
       "785   2011-07-15\n",
       "627   2011-04-09\n",
       "Name: date, dtype: datetime64[ns]"
      ]
     },
     "execution_count": 34,
     "metadata": {},
     "output_type": "execute_result"
    }
   ],
   "source": [
    "# Convert our date columns to data time 1\n",
    "\n",
    "d=df['date'] = pd.to_datetime(df['date'])\n",
    "d.sample(2)"
   ]
  },
  {
   "cell_type": "markdown",
   "metadata": {},
   "source": [
    "Convert our date columns to datetime"
   ]
  },
  {
   "cell_type": "code",
   "execution_count": 13,
   "metadata": {},
   "outputs": [
    {
     "data": {
      "text/plain": [
       "791    2011-07-18\n",
       "1605   2015-09-07\n",
       "549    2010-11-30\n",
       "Name: date, dtype: datetime64[ns]"
      ]
     },
     "execution_count": 13,
     "metadata": {},
     "output_type": "execute_result"
    }
   ],
   "source": [
    "# Convert our date columns to datetime\n",
    "# Now that we know that our date column isn't being recognized as a date, it's time to convert it so that it is recognized as a date. This is called \"parsing dates\" because we're taking in a string and identifying its component parts.\n",
    "\n",
    "# Create a new column, date_parsed, with the parsed dates\n",
    "\n",
    "g=df['date_parsed'] = pd.to_datetime(df['date'], format = \"%m/%d/%y\")\n",
    "g.sample(3)\n",
    "\n"
   ]
  },
  {
   "cell_type": "code",
   "execution_count": 15,
   "metadata": {},
   "outputs": [
    {
     "data": {
      "text/plain": [
       "0   2007-03-02\n",
       "1   2007-03-22\n",
       "2   2007-04-06\n",
       "3   2007-04-14\n",
       "4   2007-04-15\n",
       "Name: date_parsed, dtype: datetime64[ns]"
      ]
     },
     "execution_count": 15,
     "metadata": {},
     "output_type": "execute_result"
    }
   ],
   "source": [
    "# Check the first few rows of the new date column\n",
    "# The dates have been re_arranged to fit their default  order datetime objects(year, month, day)\n",
    "\n",
    "z=df['date_parsed'].head()\n",
    "z\n",
    "# We  have succesfully parsed our date column"
   ]
  },
  {
   "cell_type": "code",
   "execution_count": 16,
   "metadata": {},
   "outputs": [
    {
     "data": {
      "text/plain": [
       "dtype('<M8[ns]')"
      ]
     },
     "execution_count": 16,
     "metadata": {},
     "output_type": "execute_result"
    }
   ],
   "source": [
    "# check the data type of our our parsed date column\n",
    "\n",
    "df['date_parsed'].dtype"
   ]
  },
  {
   "cell_type": "markdown",
   "metadata": {},
   "source": [
    "What if I run into an error with multiple date formats? While we're specifying the date format here, sometimes you'll run into an error when there are multiple date formats in a single column. If that happens, you have have pandas try to infer what the right date format should be. You can do that like so:"
   ]
  },
  {
   "cell_type": "code",
   "execution_count": 17,
   "metadata": {},
   "outputs": [],
   "source": [
    "\n",
    "# Infer the date  format in pandas\n",
    "\n",
    "df['date_parsed'] = pd.to_datetime(df['date'], infer_datetime_format=True)\n",
    "\n"
   ]
  },
  {
   "cell_type": "markdown",
   "metadata": {},
   "source": [
    "Why don't you always use infer_datetime_format = True? There are two big reasons not to always have pandas guess the time format. The first is that pandas won't always been able to figure out the correct date format, especially if someone has gotten creative with data entry. The second is that it's much slower than specifying the exact format of the dates.\n"
   ]
  },
  {
   "cell_type": "code",
   "execution_count": 23,
   "metadata": {},
   "outputs": [
    {
     "data": {
      "text/plain": [
       "426    28.0\n",
       "274    14.0\n",
       "281    18.0\n",
       "Name: date_parsed, dtype: float64"
      ]
     },
     "execution_count": 23,
     "metadata": {},
     "output_type": "execute_result"
    }
   ],
   "source": [
    "# Select just the day of the month from our column\n",
    "\n",
    "# get the day of the month from the date_parsed column\n",
    "\n",
    "day_of_month_df= df['date_parsed'].dt.day\n",
    "day_of_month_df.sample(3)\n"
   ]
  },
  {
   "cell_type": "code",
   "execution_count": 28,
   "metadata": {},
   "outputs": [
    {
     "data": {
      "text/plain": [
       "161    28.0\n",
       "726    19.0\n",
       "567    22.0\n",
       "Name: date_parsed, dtype: float64"
      ]
     },
     "execution_count": 28,
     "metadata": {},
     "output_type": "execute_result"
    }
   ],
   "source": [
    "# Plot the day of the month to check the date parsing\n",
    "\n",
    "# remove na's\n",
    "day_of_month_df123 = day_of_month_df.dropna()\n",
    "day_of_month_df123.sample(3)"
   ]
  },
  {
   "cell_type": "code",
   "execution_count": 29,
   "metadata": {},
   "outputs": [
    {
     "data": {
      "text/plain": [
       "<matplotlib.axes._subplots.AxesSubplot at 0x2f0ed9b5c88>"
      ]
     },
     "execution_count": 29,
     "metadata": {},
     "output_type": "execute_result"
    },
    {
     "data": {
      "image/png": "[encoded data removed]",
      "text/plain": [
       "<Figure size 432x288 with 1 Axes>"
      ]
     },
     "metadata": {
      "needs_background": "light"
     },
     "output_type": "display_data"
    }
   ],
   "source": [
    "# Plot the day of the month using the day of the month after removing the Missing Nans Values in the parsed date time column\n",
    "\n",
    "sns.distplot(day_of_month_df123, kde=False, bins=31)\n"
   ]
  },
  {
   "cell_type": "markdown",
   "metadata": {},
   "source": [
    "Congratulations, we have parsed our dates correctly and the graph makes good sense\n",
    "\n"
   ]
  }
 ],
 "metadata": {
  "kernelspec": {
   "display_name": "Python 3",
   "language": "python",
   "name": "python3"
  },
  "language_info": {
   "codemirror_mode": {
    "name": "ipython",
    "version": 3
   },
   "file_extension": ".py",
   "mimetype": "text/x-python",
   "name": "python",
   "nbconvert_exporter": "python",
   "pygments_lexer": "ipython3",
   "version": "3.7.0"
  }
 },
 "nbformat": 4,
 "nbformat_minor": 2
}
